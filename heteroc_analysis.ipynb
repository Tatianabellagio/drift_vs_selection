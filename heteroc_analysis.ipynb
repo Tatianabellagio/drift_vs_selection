{
 "cells": [
  {
   "cell_type": "code",
   "execution_count": 9,
   "id": "d27e3068-7f1a-4b7f-98c2-2aad0205773f",
   "metadata": {},
   "outputs": [],
   "source": [
    "# once i have wholegenome_offset.trees\n",
    "import pandas as pd\n",
    "import tskit\n",
    "import allel\n",
    "import random\n",
    "import numpy as np\n",
    "import seaborn as sns\n",
    "import matplotlib.pyplot as plt\n",
    "import tsinfer\n",
    "import pyslim\n",
    "import json\n",
    "import os\n",
    "from collections import defaultdict"
   ]
  },
  {
   "cell_type": "code",
   "execution_count": 63,
   "id": "ce0912be-8254-4ba4-a98b-c6fad4705398",
   "metadata": {},
   "outputs": [
    {
     "data": {
      "text/plain": [
       "<AxesSubplot:ylabel='Count'>"
      ]
     },
     "execution_count": 63,
     "metadata": {},
     "output_type": "execute_result"
    },
    {
     "data": {
      "image/png": "[encoded data removed]",
      "text/plain": [
       "<Figure size 432x288 with 1 Axes>"
      ]
     },
     "metadata": {
      "needs_background": "light"
     },
     "output_type": "display_data"
    }
   ],
   "source": [
    "sns.histplot(het_ecotypes)"
   ]
  },
  {
   "cell_type": "code",
   "execution_count": 67,
   "id": "a461f59d-59bd-43d3-b8ff-822edea8b868",
   "metadata": {},
   "outputs": [
    {
     "name": "stderr",
     "output_type": "stream",
     "text": [
      "/carnegie/binaries/centos7/conda/3.7/envs/python_3.9/lib/python3.9/site-packages/seaborn/_decorators.py:36: FutureWarning: Pass the following variable as a keyword arg: x. From version 0.12, the only valid positional argument will be `data`, and passing other arguments without an explicit keyword will result in an error or misinterpretation.\n",
      "  warnings.warn(\n"
     ]
    },
    {
     "data": {
      "text/plain": [
       "<AxesSubplot:>"
      ]
     },
     "execution_count": 67,
     "metadata": {},
     "output_type": "execute_result"
    },
    {
     "data": {
      "image/png": "[encoded data removed]",
      "text/plain": [
       "<Figure size 432x288 with 1 Axes>"
      ]
     },
     "metadata": {
      "needs_background": "light"
     },
     "output_type": "display_data"
    }
   ],
   "source": [
    "sns.boxplot(het_ecotypes)"
   ]
  },
  {
   "cell_type": "code",
   "execution_count": 70,
   "id": "b9514c9a-d117-4576-8efc-ec19f2980549",
   "metadata": {},
   "outputs": [
    {
     "name": "stderr",
     "output_type": "stream",
     "text": [
      "/carnegie/binaries/centos7/conda/3.7/envs/python_3.9/lib/python3.9/site-packages/seaborn/_decorators.py:36: FutureWarning: Pass the following variable as a keyword arg: x. From version 0.12, the only valid positional argument will be `data`, and passing other arguments without an explicit keyword will result in an error or misinterpretation.\n",
      "  warnings.warn(\n"
     ]
    },
    {
     "data": {
      "text/plain": [
       "<AxesSubplot:>"
      ]
     },
     "execution_count": 70,
     "metadata": {},
     "output_type": "execute_result"
    },
    {
     "data": {
      "image/png": "[encoded data removed]",
      "text/plain": [
       "<Figure size 432x288 with 1 Axes>"
      ]
     },
     "metadata": {
      "needs_background": "light"
     },
     "output_type": "display_data"
    }
   ],
   "source": [
    "sns.boxplot(het_ecotypes[het_ecotypes < 1000])"
   ]
  },
  {
   "cell_type": "code",
   "execution_count": 65,
   "id": "2b079bc7-12e4-43db-a1c7-128c6c9ac2cd",
   "metadata": {},
   "outputs": [],
   "source": [
    "per_het_per_ecotype = (het_ecotypes / 3235480) * 100"
   ]
  },
  {
   "cell_type": "code",
   "execution_count": 66,
   "id": "0d7cf53d-bc8b-45f2-b255-05d14a684e5f",
   "metadata": {},
   "outputs": [
    {
     "data": {
      "text/plain": [
       "<AxesSubplot:ylabel='Count'>"
      ]
     },
     "execution_count": 66,
     "metadata": {},
     "output_type": "execute_result"
    },
    {
     "data": {
      "image/png": "[encoded data removed]",
      "text/plain": [
       "<Figure size 432x288 with 1 Axes>"
      ]
     },
     "metadata": {
      "needs_background": "light"
     },
     "output_type": "display_data"
    }
   ],
   "source": [
    "sns.histplot(per_het_per_ecotype)\n",
    "#per_het_per_ecotype"
   ]
  },
  {
   "cell_type": "code",
   "execution_count": null,
   "id": "fcd34db3-a51a-41c7-a435-28942b79eeaa",
   "metadata": {},
   "outputs": [],
   "source": []
  },
  {
   "cell_type": "code",
   "execution_count": 55,
   "id": "f8386ff3-9dfd-4003-9601-b5db64f44ad1",
   "metadata": {},
   "outputs": [],
   "source": [
    "het_sites = geno.count_het(axis=1)"
   ]
  },
  {
   "cell_type": "code",
   "execution_count": 58,
   "id": "db5a37b3-7c0f-4d06-aa2c-a952461bfad9",
   "metadata": {},
   "outputs": [
    {
     "data": {
      "text/plain": [
       "0    3200006\n",
       "1      31539\n",
       "2       3180\n",
       "3        661\n",
       "4         94\n",
       "dtype: int64"
      ]
     },
     "execution_count": 58,
     "metadata": {},
     "output_type": "execute_result"
    }
   ],
   "source": [
    "## heterozigous sites\n",
    "pd.Series(het_sites).value_counts()"
   ]
  },
  {
   "cell_type": "code",
   "execution_count": null,
   "id": "795d1612-0a17-4d5a-8afd-c3f43d97a493",
   "metadata": {},
   "outputs": [],
   "source": []
  },
  {
   "cell_type": "markdown",
   "id": "a4878095-2aa5-41e1-a149-bbf86c45de17",
   "metadata": {},
   "source": [
    "based on my hipothesis, then if i only calculate the alt allele count, that would solve a lot of the variation coming from selfing/heterozigous combination "
   ]
  },
  {
   "cell_type": "code",
   "execution_count": 111,
   "id": "2c4f9875-01fe-4d0f-919b-930c4f3ab5e0",
   "metadata": {},
   "outputs": [],
   "source": [
    "def generate_nonhet_pos():\n",
    "    vcf = allel.read_vcf('../treeseq/wholegenome_offset.vcf')\n",
    "    ## extract the genotype from the vcf file\n",
    "    geno = vcf[\"calldata/GT\"]\n",
    "    ## calcualte the genotype counts\n",
    "    geno = allel.GenotypeArray(vcf[\"calldata/GT\"])\n",
    "    het_sites = geno.count_het(axis=1)\n",
    "    mask_non_het_sites = het_sites==0 \n",
    "    nonhet_pos = vcf['variants/POS'][mask_non_het_sites]\n",
    "    pd.Series(nonhet_pos).to_csv('nonhet_pos_wholegenome_offset.csv')\n",
    "    return"
   ]
  },
  {
   "cell_type": "code",
   "execution_count": 134,
   "id": "24912660-a207-4596-9a07-5af3d8d294d2",
   "metadata": {},
   "outputs": [],
   "source": [
    "def filtering_pos (nonhet_pos, pos_new, geno_og, geno_new):\n",
    "    pos_to_keep = np.intersect1d(nonhet_pos, pos_new)\n",
    "    mask_pos_ogvcf = pd.Series(pos_og).isin(pos_to_keep)\n",
    "    geno_og_rpos  = geno_og[mask_pos_ogvcf]\n",
    "    mask_pos_newvcf = pd.Series(pos_new).isin(pos_to_keep)\n",
    "    geno_new_rpos  = geno_new[mask_pos_newvcf]\n",
    "    return geno_og_rpos, geno_new_rpos\n",
    "    "
   ]
  },
  {
   "cell_type": "code",
   "execution_count": 118,
   "id": "b64fd270-fd6c-4d27-922d-d4767a6553c7",
   "metadata": {},
   "outputs": [],
   "source": [
    "def get_ecotype_geno_mapper(geno_og_rpos):\n",
    "    geno_og_rpos = np.swapaxes(geno_og_rpos, 0, 1)\n",
    "    ecotype_geno_mapper = {}\n",
    "    for i,j in zip(geno_og_rpos, samples):\n",
    "        geno = i.tobytes()\n",
    "        ecotype_geno_mapper[geno] = j\n",
    "    return ecotype_geno_mapper"
   ]
  },
  {
   "cell_type": "code",
   "execution_count": 119,
   "id": "a37f0010-fb33-41c2-97ef-f116c11d267b",
   "metadata": {},
   "outputs": [],
   "source": [
    "from collections import defaultdict"
   ]
  },
  {
   "cell_type": "code",
   "execution_count": 120,
   "id": "65825eba-4658-4c1c-9fec-e5b22fe055fa",
   "metadata": {},
   "outputs": [],
   "source": [
    "def get_ecotype_counts(geno_new_rpos, pop_name):\n",
    "    geno_new_rpos = np.swapaxes(geno_new_rpos, 0, 1)\n",
    "    # Initialize a defaultdict to store the genotype counts\n",
    "    ecotype_counts = defaultdict(int)\n",
    "    # Count genotypes in geno_drift_resh\n",
    "    for i in geno_new_rpos:\n",
    "        sample = i.tobytes()\n",
    "        ecotype = ecotype_geno_mapper.get(sample, 'other')\n",
    "        ecotype_counts[ecotype] += 1\n",
    "    name = 'count'+ pop_name\n",
    "    ecotype_countsdf = pd.DataFrame(list(ecotype_counts.items()), columns=['ecotype', name])\n",
    "    ecotype_countsdf['ecotype'] = ecotype_countsdf['ecotype'].str.split('_').str[0]\n",
    "    return ecotype_countsdf\n",
    "    "
   ]
  },
  {
   "cell_type": "code",
   "execution_count": 115,
   "id": "08e1b390-23e2-4605-844b-b334f2350805",
   "metadata": {},
   "outputs": [],
   "source": [
    "nonhet_pos = np.array(pd.read_csv('nonhet_pos_wholegenome_offset.csv',usecols=[1])['0'])"
   ]
  },
  {
   "cell_type": "code",
   "execution_count": 122,
   "id": "c3d75800-e347-4163-a9de-635300b17669",
   "metadata": {},
   "outputs": [],
   "source": [
    "vcf_og = allel.read_vcf('../treeseq/wholegenome_offset.vcf', fields=['calldata/GT', 'variants/POS', 'samples'])\n",
    "geno_og = vcf_og['calldata/GT']\n",
    "pos_og = vcf_og['variants/POS']\n",
    "samples = vcf_og['samples']"
   ]
  },
  {
   "cell_type": "code",
   "execution_count": 137,
   "id": "0eab2bf7-8c2e-49fe-a46a-e235e319408a",
   "metadata": {},
   "outputs": [],
   "source": [
    "vcf_drift = allel.read_vcf(f'result_drift1.vcf', fields=['variants/POS', \"calldata/GT\"])\n",
    "pos_vcf_drift = vcf_drift['variants/POS']\n",
    "geno_drift = vcf_drift[\"calldata/GT\"]\n",
    "\n",
    "geno_og_rpos, geno_new_rpos = filtering_pos (nonhet_pos, pos_vcf_drift, geno_og, geno_drift)\n",
    "\n",
    "ecotype_geno_mapper = get_ecotype_geno_mapper(geno_og_rpos)\n",
    "\n",
    "ecotype_countsdf = get_ecotype_counts(geno_new_rpos, 'drift')"
   ]
  },
  {
   "cell_type": "code",
   "execution_count": 138,
   "id": "196b19f9-eb05-496d-b1c8-0511f782d589",
   "metadata": {},
   "outputs": [
    {
     "data": {
      "text/html": [
       "<div>\n",
       "<style scoped>\n",
       "    .dataframe tbody tr th:only-of-type {\n",
       "        vertical-align: middle;\n",
       "    }\n",
       "\n",
       "    .dataframe tbody tr th {\n",
       "        vertical-align: top;\n",
       "    }\n",
       "\n",
       "    .dataframe thead th {\n",
       "        text-align: right;\n",
       "    }\n",
       "</style>\n",
       "<table border=\"1\" class=\"dataframe\">\n",
       "  <thead>\n",
       "    <tr style=\"text-align: right;\">\n",
       "      <th></th>\n",
       "      <th>ecotype</th>\n",
       "      <th>countdrift</th>\n",
       "    </tr>\n",
       "  </thead>\n",
       "  <tbody>\n",
       "    <tr>\n",
       "      <th>0</th>\n",
       "      <td>6911</td>\n",
       "      <td>6</td>\n",
       "    </tr>\n",
       "    <tr>\n",
       "      <th>1</th>\n",
       "      <td>9512</td>\n",
       "      <td>3</td>\n",
       "    </tr>\n",
       "    <tr>\n",
       "      <th>2</th>\n",
       "      <td>other</td>\n",
       "      <td>57</td>\n",
       "    </tr>\n",
       "    <tr>\n",
       "      <th>3</th>\n",
       "      <td>7003</td>\n",
       "      <td>10</td>\n",
       "    </tr>\n",
       "    <tr>\n",
       "      <th>4</th>\n",
       "      <td>9775</td>\n",
       "      <td>8</td>\n",
       "    </tr>\n",
       "    <tr>\n",
       "      <th>...</th>\n",
       "      <td>...</td>\n",
       "      <td>...</td>\n",
       "    </tr>\n",
       "    <tr>\n",
       "      <th>176</th>\n",
       "      <td>6209</td>\n",
       "      <td>1</td>\n",
       "    </tr>\n",
       "    <tr>\n",
       "      <th>177</th>\n",
       "      <td>9544</td>\n",
       "      <td>1</td>\n",
       "    </tr>\n",
       "    <tr>\n",
       "      <th>178</th>\n",
       "      <td>9547</td>\n",
       "      <td>3</td>\n",
       "    </tr>\n",
       "    <tr>\n",
       "      <th>179</th>\n",
       "      <td>9941</td>\n",
       "      <td>2</td>\n",
       "    </tr>\n",
       "    <tr>\n",
       "      <th>180</th>\n",
       "      <td>9537</td>\n",
       "      <td>1</td>\n",
       "    </tr>\n",
       "  </tbody>\n",
       "</table>\n",
       "<p>181 rows × 2 columns</p>\n",
       "</div>"
      ],
      "text/plain": [
       "    ecotype  countdrift\n",
       "0      6911           6\n",
       "1      9512           3\n",
       "2     other          57\n",
       "3      7003          10\n",
       "4      9775           8\n",
       "..      ...         ...\n",
       "176    6209           1\n",
       "177    9544           1\n",
       "178    9547           3\n",
       "179    9941           2\n",
       "180    9537           1\n",
       "\n",
       "[181 rows x 2 columns]"
      ]
     },
     "execution_count": 138,
     "metadata": {},
     "output_type": "execute_result"
    }
   ],
   "source": [
    "ecotype_countsdf"
   ]
  },
  {
   "cell_type": "code",
   "execution_count": null,
   "id": "e8a92135-6489-495a-9636-160d1ab09fbe",
   "metadata": {},
   "outputs": [],
   "source": []
  },
  {
   "cell_type": "code",
   "execution_count": null,
   "id": "b0c68fcd-6384-4737-a081-148e7f38d7b6",
   "metadata": {},
   "outputs": [],
   "source": []
  },
  {
   "cell_type": "code",
   "execution_count": 2,
   "id": "8a098de8-a72d-4d2c-9418-a641ace32b9c",
   "metadata": {},
   "outputs": [],
   "source": [
    "def generate_nonhet_pos():\n",
    "    vcf = allel.read_vcf('../treeseq/wholegenome_offset.vcf')\n",
    "    ## extract the genotype from the vcf file\n",
    "    geno = vcf[\"calldata/GT\"]\n",
    "    ## calcualte the genotype counts\n",
    "    geno = allel.GenotypeArray(vcf[\"calldata/GT\"])\n",
    "    het_sites = geno.count_het(axis=1)\n",
    "    mask_non_het_sites = het_sites==0 \n",
    "    nonhet_pos = vcf['variants/POS'][mask_non_het_sites]\n",
    "    pd.Series(nonhet_pos).to_csv('nonhet_pos_wholegenome_offset.csv')\n",
    "    return\n",
    "\n",
    "def filtering_pos (nonhet_pos, pos_new, geno_og, geno_new):\n",
    "    pos_to_keep = np.intersect1d(nonhet_pos, pos_new)\n",
    "    mask_pos_ogvcf = pd.Series(pos_og).isin(pos_to_keep)\n",
    "    geno_og_rpos  = geno_og[mask_pos_ogvcf]\n",
    "    mask_pos_newvcf = pd.Series(pos_new).isin(pos_to_keep)\n",
    "    geno_new_rpos  = geno_new[mask_pos_newvcf]\n",
    "    return geno_og_rpos, geno_new_rpos\n",
    "    \n",
    "\n",
    "def get_ecotype_geno_mapper(geno_og_rpos):\n",
    "    geno_og_rpos = np.swapaxes(geno_og_rpos, 0, 1)\n",
    "    ecotype_geno_mapper = {}\n",
    "    for i,j in zip(geno_og_rpos, samples):\n",
    "        geno = i.tobytes()\n",
    "        ecotype_geno_mapper[geno] = j\n",
    "    return ecotype_geno_mapper\n",
    "\n",
    "def get_ecotype_counts(geno_new_rpos, pop_name):\n",
    "    geno_new_rpos = np.swapaxes(geno_new_rpos, 0, 1)\n",
    "    # Initialize a defaultdict to store the genotype counts\n",
    "    ecotype_counts = defaultdict(int)\n",
    "    # Count genotypes in geno_drift_resh\n",
    "    for i in geno_new_rpos:\n",
    "        sample = i.tobytes()\n",
    "        ecotype = ecotype_geno_mapper.get(sample, 'other')\n",
    "        ecotype_counts[ecotype] += 1\n",
    "    name = 'count'+ pop_name\n",
    "    ecotype_countsdf = pd.DataFrame(list(ecotype_counts.items()), columns=['ecotype', name])\n",
    "    ecotype_countsdf['ecotype'] = ecotype_countsdf['ecotype'].str.split('_').str[0]\n",
    "    return ecotype_countsdf"
   ]
  },
  {
   "cell_type": "code",
   "execution_count": 3,
   "id": "b87a0e8d-522b-461d-b68a-0135c212dec7",
   "metadata": {},
   "outputs": [],
   "source": [
    "nonhet_pos = np.array(pd.read_csv('nonhet_pos_wholegenome_offset.csv',usecols=[1])['0'])"
   ]
  },
  {
   "cell_type": "code",
   "execution_count": 4,
   "id": "cd8c52be-50fa-401a-a595-b5e5260dcee7",
   "metadata": {},
   "outputs": [],
   "source": [
    "vcf_og = allel.read_vcf('../treeseq/wholegenome_offset.vcf', fields=['calldata/GT', 'variants/POS', 'samples'])\n",
    "geno_og = vcf_og['calldata/GT']\n",
    "pos_og = vcf_og['variants/POS']\n",
    "samples = vcf_og['samples']"
   ]
  },
  {
   "cell_type": "code",
   "execution_count": 5,
   "id": "ea0aa81b-26ca-4f47-89a7-aaa03c0d5863",
   "metadata": {},
   "outputs": [],
   "source": [
    "variances = pd.read_csv('variances.txt',header=None)[0]\n",
    "optimas = pd.read_csv('optimas.txt',header=None)[0]"
   ]
  },
  {
   "cell_type": "code",
   "execution_count": 16,
   "id": "c4853e94-0798-4bbb-a82e-391b6b6d385f",
   "metadata": {},
   "outputs": [],
   "source": [
    "ecotypes_grenenet = pd.read_csv('ecotypes_grenenet.txt',header=None, dtype=object)\n",
    "ecotypes_grenenet.columns= ['ecotype']\n",
    "ecotypes_grenenet = pd.concat([ecotypes_grenenet, pd.DataFrame(data = {'ecotype': ['other']}, index=[231])],axis=0)"
   ]
  },
  {
   "cell_type": "code",
   "execution_count": 27,
   "id": "811a838a-e55b-47d5-a879-0bca32e6dd3e",
   "metadata": {},
   "outputs": [
    {
     "ename": "OSError",
     "evalue": "[Errno 116] Stale file handle",
     "output_type": "error",
     "traceback": [
      "\u001b[0;31m---------------------------------------------------------------------------\u001b[0m",
      "\u001b[0;31mOSError\u001b[0m                                   Traceback (most recent call last)",
      "\u001b[0;32m/tmp/ipykernel_15201/122714236.py\u001b[0m in \u001b[0;36m<cell line: 1>\u001b[0;34m()\u001b[0m\n\u001b[1;32m      6\u001b[0m \u001b[0;34m\u001b[0m\u001b[0m\n\u001b[1;32m      7\u001b[0m             \u001b[0;31m## import each of teh vcf realted to the drift simulation\u001b[0m\u001b[0;34m\u001b[0m\u001b[0;34m\u001b[0m\u001b[0m\n\u001b[0;32m----> 8\u001b[0;31m             \u001b[0mvcf_new\u001b[0m \u001b[0;34m=\u001b[0m \u001b[0mallel\u001b[0m\u001b[0;34m.\u001b[0m\u001b[0mread_vcf\u001b[0m\u001b[0;34m(\u001b[0m\u001b[0mvcf_filename\u001b[0m\u001b[0;34m,\u001b[0m \u001b[0mfields\u001b[0m \u001b[0;34m=\u001b[0m \u001b[0;34m[\u001b[0m\u001b[0;34m'calldata/GT'\u001b[0m\u001b[0;34m,\u001b[0m \u001b[0;34m'variants/POS'\u001b[0m\u001b[0;34m]\u001b[0m\u001b[0;34m)\u001b[0m\u001b[0;34m\u001b[0m\u001b[0;34m\u001b[0m\u001b[0m\n\u001b[0m\u001b[1;32m      9\u001b[0m             \u001b[0;31m##extract the posisions and the geno array\u001b[0m\u001b[0;34m\u001b[0m\u001b[0;34m\u001b[0m\u001b[0m\n\u001b[1;32m     10\u001b[0m             \u001b[0mpos_new\u001b[0m \u001b[0;34m=\u001b[0m \u001b[0mvcf_new\u001b[0m\u001b[0;34m[\u001b[0m\u001b[0;34m'variants/POS'\u001b[0m\u001b[0;34m]\u001b[0m\u001b[0;34m\u001b[0m\u001b[0;34m\u001b[0m\u001b[0m\n",
      "\u001b[0;32m~/.local/lib/python3.9/site-packages/allel/io/vcf_read.py\u001b[0m in \u001b[0;36mread_vcf\u001b[0;34m(input, fields, exclude_fields, rename_fields, types, numbers, alt_number, fills, region, tabix, samples, transformers, buffer_size, chunk_length, log)\u001b[0m\n\u001b[1;32m    320\u001b[0m \u001b[0;34m\u001b[0m\u001b[0m\n\u001b[1;32m    321\u001b[0m     \u001b[0;31m# read all chunks into a list\u001b[0m\u001b[0;34m\u001b[0m\u001b[0;34m\u001b[0m\u001b[0m\n\u001b[0;32m--> 322\u001b[0;31m     \u001b[0mchunks\u001b[0m \u001b[0;34m=\u001b[0m \u001b[0;34m[\u001b[0m\u001b[0md\u001b[0m\u001b[0;34m[\u001b[0m\u001b[0;36m0\u001b[0m\u001b[0;34m]\u001b[0m \u001b[0;32mfor\u001b[0m \u001b[0md\u001b[0m \u001b[0;32min\u001b[0m \u001b[0mit\u001b[0m\u001b[0;34m]\u001b[0m\u001b[0;34m\u001b[0m\u001b[0;34m\u001b[0m\u001b[0m\n\u001b[0m\u001b[1;32m    323\u001b[0m \u001b[0;34m\u001b[0m\u001b[0m\n\u001b[1;32m    324\u001b[0m     \u001b[0;32mif\u001b[0m \u001b[0mchunks\u001b[0m\u001b[0;34m:\u001b[0m\u001b[0;34m\u001b[0m\u001b[0;34m\u001b[0m\u001b[0m\n",
      "\u001b[0;32m~/.local/lib/python3.9/site-packages/allel/io/vcf_read.py\u001b[0m in \u001b[0;36m<listcomp>\u001b[0;34m(.0)\u001b[0m\n\u001b[1;32m    320\u001b[0m \u001b[0;34m\u001b[0m\u001b[0m\n\u001b[1;32m    321\u001b[0m     \u001b[0;31m# read all chunks into a list\u001b[0m\u001b[0;34m\u001b[0m\u001b[0;34m\u001b[0m\u001b[0m\n\u001b[0;32m--> 322\u001b[0;31m     \u001b[0mchunks\u001b[0m \u001b[0;34m=\u001b[0m \u001b[0;34m[\u001b[0m\u001b[0md\u001b[0m\u001b[0;34m[\u001b[0m\u001b[0;36m0\u001b[0m\u001b[0;34m]\u001b[0m \u001b[0;32mfor\u001b[0m \u001b[0md\u001b[0m \u001b[0;32min\u001b[0m \u001b[0mit\u001b[0m\u001b[0;34m]\u001b[0m\u001b[0;34m\u001b[0m\u001b[0;34m\u001b[0m\u001b[0m\n\u001b[0m\u001b[1;32m    323\u001b[0m \u001b[0;34m\u001b[0m\u001b[0m\n\u001b[1;32m    324\u001b[0m     \u001b[0;32mif\u001b[0m \u001b[0mchunks\u001b[0m\u001b[0;34m:\u001b[0m\u001b[0;34m\u001b[0m\u001b[0;34m\u001b[0m\u001b[0m\n",
      "\u001b[0;32mallel/opt/io_vcf_read.pyx\u001b[0m in \u001b[0;36mallel.opt.io_vcf_read.VCFChunkIterator.__next__\u001b[0;34m()\u001b[0m\n",
      "\u001b[0;32mallel/opt/io_vcf_read.pyx\u001b[0m in \u001b[0;36mallel.opt.io_vcf_read.VCFParser.parse\u001b[0;34m()\u001b[0m\n",
      "\u001b[0;32mallel/opt/io_vcf_read.pyx\u001b[0m in \u001b[0;36mallel.opt.io_vcf_read.VCFCallDataParser.parse\u001b[0;34m()\u001b[0m\n",
      "\u001b[0;32mallel/opt/io_vcf_read.pyx\u001b[0m in \u001b[0;36mallel.opt.io_vcf_read.VCFGenotypeInt8Parser.parse\u001b[0;34m()\u001b[0m\n",
      "\u001b[0;32mallel/opt/io_vcf_read.pyx\u001b[0m in \u001b[0;36mallel.opt.io_vcf_read.vcf_genotype_parse\u001b[0;34m()\u001b[0m\n",
      "\u001b[0;32mallel/opt/io_vcf_read.pyx\u001b[0m in \u001b[0;36mallel.opt.io_vcf_read.FileInputStream.advance\u001b[0;34m()\u001b[0m\n",
      "\u001b[0;32mallel/opt/io_vcf_read.pyx\u001b[0m in \u001b[0;36mallel.opt.io_vcf_read.FileInputStream._bufferup\u001b[0;34m()\u001b[0m\n",
      "\u001b[0;31mOSError\u001b[0m: [Errno 116] Stale file handle"
     ]
    }
   ],
   "source": [
    "for i in variances:\n",
    "    for j in optimas:\n",
    "        vcf_filename = f'result_selection_var{i}_optima{j}.vcf'\n",
    "        # Check if the VCF file exists and is not empty (all individuals died)\n",
    "        if os.path.exists(vcf_filename) and os.path.getsize(vcf_filename) > 0:\n",
    "        \n",
    "            ## import each of teh vcf realted to the drift simulation\n",
    "            vcf_new = allel.read_vcf(vcf_filename, fields = ['calldata/GT', 'variants/POS'])\n",
    "            ##extract the posisions and the geno array\n",
    "            pos_new = vcf_new['variants/POS']\n",
    "            geno_new = vcf_new['calldata/GT']\n",
    "            ## for each of them create the ecotype geno mapper, depending on the positions that made it \n",
    "            geno_og_rpos, geno_new_rpos = filtering_pos (nonhet_pos, pos_new, geno_og, geno_new)\n",
    "            ecotype_geno_mapper = get_ecotype_geno_mapper(geno_og_rpos)\n",
    "            ecotype_countsdf = get_ecotype_counts(geno_new_rpos, f'_selection_var{i}_optima{j}')\n",
    "            ## merge with previous \n",
    "            ecotypes_grenenet = ecotypes_grenenet.merge(ecotype_countsdf, how='left', on ='ecotype')\n",
    "        elif os.path.exists(vcf_filename) and os.path.getsize(vcf_filename) == 0:\n",
    "            empty_col_name = f'counts_selection_var{i}_optima{j}'\n",
    "            print('added empty column in ' + empty_col_name)\n",
    "            ecotypes_grenenet[empty_col_name] = 0\n",
    "\n"
   ]
  },
  {
   "cell_type": "code",
   "execution_count": 13,
   "id": "128a924a-9cb5-4c92-a10d-a96e0693d7b3",
   "metadata": {},
   "outputs": [
    {
     "data": {
      "text/plain": [
       "900.0"
      ]
     },
     "execution_count": 13,
     "metadata": {},
     "output_type": "execute_result"
    }
   ],
   "source": [
    "ecotypes_grenenet['count_selection_var0.4344_optima0.2792'].sum()"
   ]
  },
  {
   "cell_type": "code",
   "execution_count": 20,
   "id": "df9fad8b-8bbd-4c98-878a-19274ab4e9c9",
   "metadata": {},
   "outputs": [
    {
     "data": {
      "text/plain": [
       "ecotype                                    1000210006100111001310014159265515151655768577...\n",
       "count_selection_var0.0869_optima0.0                                                    900.0\n",
       "count_selection_var0.0869_optima0.2792                                                 746.0\n",
       "count_selection_var0.0869_optima0.5585                                                  78.0\n",
       "count_selection_var0.0869_optima0.8377                                                  27.0\n",
       "counts_selection_var0.0869_optima1.1169                                                    0\n",
       "count_selection_var0.0869_optima1.3961                                                   3.0\n",
       "count_selection_var0.0869_optima1.6754                                                  13.0\n",
       "count_selection_var0.0869_optima1.9546                                                   6.0\n",
       "count_selection_var0.0869_optima2.2338                                                   1.0\n",
       "counts_selection_var0.0869_optima2.5131                                                    0\n",
       "counts_selection_var0.0869_optima2.7923                                                    0\n",
       "counts_selection_var0.0869_optima3.0715                                                    0\n",
       "counts_selection_var0.0869_optima3.3507                                                    0\n",
       "counts_selection_var0.0869_optima3.63                                                      0\n",
       "counts_selection_var0.0869_optima3.9092                                                    0\n",
       "dtype: object"
      ]
     },
     "execution_count": 20,
     "metadata": {},
     "output_type": "execute_result"
    }
   ],
   "source": [
    "ecotypes_grenenet.sum(axis=0)"
   ]
  },
  {
   "cell_type": "code",
   "execution_count": 21,
   "id": "972d44df-96b5-4eb3-974c-30625b4fc9fa",
   "metadata": {},
   "outputs": [
    {
     "data": {
      "text/html": [
       "<div>\n",
       "<style scoped>\n",
       "    .dataframe tbody tr th:only-of-type {\n",
       "        vertical-align: middle;\n",
       "    }\n",
       "\n",
       "    .dataframe tbody tr th {\n",
       "        vertical-align: top;\n",
       "    }\n",
       "\n",
       "    .dataframe thead th {\n",
       "        text-align: right;\n",
       "    }\n",
       "</style>\n",
       "<table border=\"1\" class=\"dataframe\">\n",
       "  <thead>\n",
       "    <tr style=\"text-align: right;\">\n",
       "      <th></th>\n",
       "      <th>ecotype</th>\n",
       "      <th>count_selection_var0.0869_optima0.0</th>\n",
       "      <th>count_selection_var0.0869_optima0.2792</th>\n",
       "      <th>count_selection_var0.0869_optima0.5585</th>\n",
       "      <th>count_selection_var0.0869_optima0.8377</th>\n",
       "      <th>counts_selection_var0.0869_optima1.1169</th>\n",
       "      <th>count_selection_var0.0869_optima1.3961</th>\n",
       "      <th>count_selection_var0.0869_optima1.6754</th>\n",
       "      <th>count_selection_var0.0869_optima1.9546</th>\n",
       "      <th>count_selection_var0.0869_optima2.2338</th>\n",
       "      <th>counts_selection_var0.0869_optima2.5131</th>\n",
       "      <th>counts_selection_var0.0869_optima2.7923</th>\n",
       "      <th>counts_selection_var0.0869_optima3.0715</th>\n",
       "      <th>counts_selection_var0.0869_optima3.3507</th>\n",
       "      <th>counts_selection_var0.0869_optima3.63</th>\n",
       "      <th>counts_selection_var0.0869_optima3.9092</th>\n",
       "    </tr>\n",
       "  </thead>\n",
       "  <tbody>\n",
       "    <tr>\n",
       "      <th>0</th>\n",
       "      <td>10002</td>\n",
       "      <td>NaN</td>\n",
       "      <td>NaN</td>\n",
       "      <td>NaN</td>\n",
       "      <td>NaN</td>\n",
       "      <td>0</td>\n",
       "      <td>NaN</td>\n",
       "      <td>NaN</td>\n",
       "      <td>NaN</td>\n",
       "      <td>NaN</td>\n",
       "      <td>0</td>\n",
       "      <td>0</td>\n",
       "      <td>0</td>\n",
       "      <td>0</td>\n",
       "      <td>0</td>\n",
       "      <td>0</td>\n",
       "    </tr>\n",
       "    <tr>\n",
       "      <th>1</th>\n",
       "      <td>10006</td>\n",
       "      <td>17.0</td>\n",
       "      <td>NaN</td>\n",
       "      <td>NaN</td>\n",
       "      <td>NaN</td>\n",
       "      <td>0</td>\n",
       "      <td>NaN</td>\n",
       "      <td>NaN</td>\n",
       "      <td>NaN</td>\n",
       "      <td>NaN</td>\n",
       "      <td>0</td>\n",
       "      <td>0</td>\n",
       "      <td>0</td>\n",
       "      <td>0</td>\n",
       "      <td>0</td>\n",
       "      <td>0</td>\n",
       "    </tr>\n",
       "    <tr>\n",
       "      <th>2</th>\n",
       "      <td>10011</td>\n",
       "      <td>9.0</td>\n",
       "      <td>12.0</td>\n",
       "      <td>NaN</td>\n",
       "      <td>NaN</td>\n",
       "      <td>0</td>\n",
       "      <td>NaN</td>\n",
       "      <td>NaN</td>\n",
       "      <td>NaN</td>\n",
       "      <td>NaN</td>\n",
       "      <td>0</td>\n",
       "      <td>0</td>\n",
       "      <td>0</td>\n",
       "      <td>0</td>\n",
       "      <td>0</td>\n",
       "      <td>0</td>\n",
       "    </tr>\n",
       "    <tr>\n",
       "      <th>3</th>\n",
       "      <td>10013</td>\n",
       "      <td>5.0</td>\n",
       "      <td>4.0</td>\n",
       "      <td>NaN</td>\n",
       "      <td>NaN</td>\n",
       "      <td>0</td>\n",
       "      <td>NaN</td>\n",
       "      <td>NaN</td>\n",
       "      <td>NaN</td>\n",
       "      <td>NaN</td>\n",
       "      <td>0</td>\n",
       "      <td>0</td>\n",
       "      <td>0</td>\n",
       "      <td>0</td>\n",
       "      <td>0</td>\n",
       "      <td>0</td>\n",
       "    </tr>\n",
       "    <tr>\n",
       "      <th>4</th>\n",
       "      <td>10014</td>\n",
       "      <td>NaN</td>\n",
       "      <td>NaN</td>\n",
       "      <td>NaN</td>\n",
       "      <td>NaN</td>\n",
       "      <td>0</td>\n",
       "      <td>NaN</td>\n",
       "      <td>NaN</td>\n",
       "      <td>NaN</td>\n",
       "      <td>NaN</td>\n",
       "      <td>0</td>\n",
       "      <td>0</td>\n",
       "      <td>0</td>\n",
       "      <td>0</td>\n",
       "      <td>0</td>\n",
       "      <td>0</td>\n",
       "    </tr>\n",
       "    <tr>\n",
       "      <th>...</th>\n",
       "      <td>...</td>\n",
       "      <td>...</td>\n",
       "      <td>...</td>\n",
       "      <td>...</td>\n",
       "      <td>...</td>\n",
       "      <td>...</td>\n",
       "      <td>...</td>\n",
       "      <td>...</td>\n",
       "      <td>...</td>\n",
       "      <td>...</td>\n",
       "      <td>...</td>\n",
       "      <td>...</td>\n",
       "      <td>...</td>\n",
       "      <td>...</td>\n",
       "      <td>...</td>\n",
       "      <td>...</td>\n",
       "    </tr>\n",
       "    <tr>\n",
       "      <th>227</th>\n",
       "      <td>6939</td>\n",
       "      <td>NaN</td>\n",
       "      <td>NaN</td>\n",
       "      <td>NaN</td>\n",
       "      <td>NaN</td>\n",
       "      <td>0</td>\n",
       "      <td>NaN</td>\n",
       "      <td>NaN</td>\n",
       "      <td>NaN</td>\n",
       "      <td>NaN</td>\n",
       "      <td>0</td>\n",
       "      <td>0</td>\n",
       "      <td>0</td>\n",
       "      <td>0</td>\n",
       "      <td>0</td>\n",
       "      <td>0</td>\n",
       "    </tr>\n",
       "    <tr>\n",
       "      <th>228</th>\n",
       "      <td>9940</td>\n",
       "      <td>NaN</td>\n",
       "      <td>NaN</td>\n",
       "      <td>NaN</td>\n",
       "      <td>NaN</td>\n",
       "      <td>0</td>\n",
       "      <td>NaN</td>\n",
       "      <td>NaN</td>\n",
       "      <td>NaN</td>\n",
       "      <td>NaN</td>\n",
       "      <td>0</td>\n",
       "      <td>0</td>\n",
       "      <td>0</td>\n",
       "      <td>0</td>\n",
       "      <td>0</td>\n",
       "      <td>0</td>\n",
       "    </tr>\n",
       "    <tr>\n",
       "      <th>229</th>\n",
       "      <td>9977</td>\n",
       "      <td>19.0</td>\n",
       "      <td>NaN</td>\n",
       "      <td>NaN</td>\n",
       "      <td>NaN</td>\n",
       "      <td>0</td>\n",
       "      <td>NaN</td>\n",
       "      <td>NaN</td>\n",
       "      <td>NaN</td>\n",
       "      <td>NaN</td>\n",
       "      <td>0</td>\n",
       "      <td>0</td>\n",
       "      <td>0</td>\n",
       "      <td>0</td>\n",
       "      <td>0</td>\n",
       "      <td>0</td>\n",
       "    </tr>\n",
       "    <tr>\n",
       "      <th>230</th>\n",
       "      <td>9992</td>\n",
       "      <td>NaN</td>\n",
       "      <td>NaN</td>\n",
       "      <td>NaN</td>\n",
       "      <td>NaN</td>\n",
       "      <td>0</td>\n",
       "      <td>NaN</td>\n",
       "      <td>NaN</td>\n",
       "      <td>NaN</td>\n",
       "      <td>NaN</td>\n",
       "      <td>0</td>\n",
       "      <td>0</td>\n",
       "      <td>0</td>\n",
       "      <td>0</td>\n",
       "      <td>0</td>\n",
       "      <td>0</td>\n",
       "    </tr>\n",
       "    <tr>\n",
       "      <th>231</th>\n",
       "      <td>other</td>\n",
       "      <td>75.0</td>\n",
       "      <td>39.0</td>\n",
       "      <td>8.0</td>\n",
       "      <td>2.0</td>\n",
       "      <td>0</td>\n",
       "      <td>1.0</td>\n",
       "      <td>NaN</td>\n",
       "      <td>NaN</td>\n",
       "      <td>NaN</td>\n",
       "      <td>0</td>\n",
       "      <td>0</td>\n",
       "      <td>0</td>\n",
       "      <td>0</td>\n",
       "      <td>0</td>\n",
       "      <td>0</td>\n",
       "    </tr>\n",
       "  </tbody>\n",
       "</table>\n",
       "<p>232 rows × 16 columns</p>\n",
       "</div>"
      ],
      "text/plain": [
       "    ecotype  count_selection_var0.0869_optima0.0  \\\n",
       "0     10002                                  NaN   \n",
       "1     10006                                 17.0   \n",
       "2     10011                                  9.0   \n",
       "3     10013                                  5.0   \n",
       "4     10014                                  NaN   \n",
       "..      ...                                  ...   \n",
       "227    6939                                  NaN   \n",
       "228    9940                                  NaN   \n",
       "229    9977                                 19.0   \n",
       "230    9992                                  NaN   \n",
       "231   other                                 75.0   \n",
       "\n",
       "     count_selection_var0.0869_optima0.2792  \\\n",
       "0                                       NaN   \n",
       "1                                       NaN   \n",
       "2                                      12.0   \n",
       "3                                       4.0   \n",
       "4                                       NaN   \n",
       "..                                      ...   \n",
       "227                                     NaN   \n",
       "228                                     NaN   \n",
       "229                                     NaN   \n",
       "230                                     NaN   \n",
       "231                                    39.0   \n",
       "\n",
       "     count_selection_var0.0869_optima0.5585  \\\n",
       "0                                       NaN   \n",
       "1                                       NaN   \n",
       "2                                       NaN   \n",
       "3                                       NaN   \n",
       "4                                       NaN   \n",
       "..                                      ...   \n",
       "227                                     NaN   \n",
       "228                                     NaN   \n",
       "229                                     NaN   \n",
       "230                                     NaN   \n",
       "231                                     8.0   \n",
       "\n",
       "     count_selection_var0.0869_optima0.8377  \\\n",
       "0                                       NaN   \n",
       "1                                       NaN   \n",
       "2                                       NaN   \n",
       "3                                       NaN   \n",
       "4                                       NaN   \n",
       "..                                      ...   \n",
       "227                                     NaN   \n",
       "228                                     NaN   \n",
       "229                                     NaN   \n",
       "230                                     NaN   \n",
       "231                                     2.0   \n",
       "\n",
       "     counts_selection_var0.0869_optima1.1169  \\\n",
       "0                                          0   \n",
       "1                                          0   \n",
       "2                                          0   \n",
       "3                                          0   \n",
       "4                                          0   \n",
       "..                                       ...   \n",
       "227                                        0   \n",
       "228                                        0   \n",
       "229                                        0   \n",
       "230                                        0   \n",
       "231                                        0   \n",
       "\n",
       "     count_selection_var0.0869_optima1.3961  \\\n",
       "0                                       NaN   \n",
       "1                                       NaN   \n",
       "2                                       NaN   \n",
       "3                                       NaN   \n",
       "4                                       NaN   \n",
       "..                                      ...   \n",
       "227                                     NaN   \n",
       "228                                     NaN   \n",
       "229                                     NaN   \n",
       "230                                     NaN   \n",
       "231                                     1.0   \n",
       "\n",
       "     count_selection_var0.0869_optima1.6754  \\\n",
       "0                                       NaN   \n",
       "1                                       NaN   \n",
       "2                                       NaN   \n",
       "3                                       NaN   \n",
       "4                                       NaN   \n",
       "..                                      ...   \n",
       "227                                     NaN   \n",
       "228                                     NaN   \n",
       "229                                     NaN   \n",
       "230                                     NaN   \n",
       "231                                     NaN   \n",
       "\n",
       "     count_selection_var0.0869_optima1.9546  \\\n",
       "0                                       NaN   \n",
       "1                                       NaN   \n",
       "2                                       NaN   \n",
       "3                                       NaN   \n",
       "4                                       NaN   \n",
       "..                                      ...   \n",
       "227                                     NaN   \n",
       "228                                     NaN   \n",
       "229                                     NaN   \n",
       "230                                     NaN   \n",
       "231                                     NaN   \n",
       "\n",
       "     count_selection_var0.0869_optima2.2338  \\\n",
       "0                                       NaN   \n",
       "1                                       NaN   \n",
       "2                                       NaN   \n",
       "3                                       NaN   \n",
       "4                                       NaN   \n",
       "..                                      ...   \n",
       "227                                     NaN   \n",
       "228                                     NaN   \n",
       "229                                     NaN   \n",
       "230                                     NaN   \n",
       "231                                     NaN   \n",
       "\n",
       "     counts_selection_var0.0869_optima2.5131  \\\n",
       "0                                          0   \n",
       "1                                          0   \n",
       "2                                          0   \n",
       "3                                          0   \n",
       "4                                          0   \n",
       "..                                       ...   \n",
       "227                                        0   \n",
       "228                                        0   \n",
       "229                                        0   \n",
       "230                                        0   \n",
       "231                                        0   \n",
       "\n",
       "     counts_selection_var0.0869_optima2.7923  \\\n",
       "0                                          0   \n",
       "1                                          0   \n",
       "2                                          0   \n",
       "3                                          0   \n",
       "4                                          0   \n",
       "..                                       ...   \n",
       "227                                        0   \n",
       "228                                        0   \n",
       "229                                        0   \n",
       "230                                        0   \n",
       "231                                        0   \n",
       "\n",
       "     counts_selection_var0.0869_optima3.0715  \\\n",
       "0                                          0   \n",
       "1                                          0   \n",
       "2                                          0   \n",
       "3                                          0   \n",
       "4                                          0   \n",
       "..                                       ...   \n",
       "227                                        0   \n",
       "228                                        0   \n",
       "229                                        0   \n",
       "230                                        0   \n",
       "231                                        0   \n",
       "\n",
       "     counts_selection_var0.0869_optima3.3507  \\\n",
       "0                                          0   \n",
       "1                                          0   \n",
       "2                                          0   \n",
       "3                                          0   \n",
       "4                                          0   \n",
       "..                                       ...   \n",
       "227                                        0   \n",
       "228                                        0   \n",
       "229                                        0   \n",
       "230                                        0   \n",
       "231                                        0   \n",
       "\n",
       "     counts_selection_var0.0869_optima3.63  \\\n",
       "0                                        0   \n",
       "1                                        0   \n",
       "2                                        0   \n",
       "3                                        0   \n",
       "4                                        0   \n",
       "..                                     ...   \n",
       "227                                      0   \n",
       "228                                      0   \n",
       "229                                      0   \n",
       "230                                      0   \n",
       "231                                      0   \n",
       "\n",
       "     counts_selection_var0.0869_optima3.9092  \n",
       "0                                          0  \n",
       "1                                          0  \n",
       "2                                          0  \n",
       "3                                          0  \n",
       "4                                          0  \n",
       "..                                       ...  \n",
       "227                                        0  \n",
       "228                                        0  \n",
       "229                                        0  \n",
       "230                                        0  \n",
       "231                                        0  \n",
       "\n",
       "[232 rows x 16 columns]"
      ]
     },
     "execution_count": 21,
     "metadata": {},
     "output_type": "execute_result"
    }
   ],
   "source": [
    "ecotypes_grenenet"
   ]
  },
  {
   "cell_type": "code",
   "execution_count": 24,
   "id": "0dd98ce4-4494-463f-8641-46bf5095c964",
   "metadata": {},
   "outputs": [
    {
     "data": {
      "text/html": [
       "\n",
       "            <div>\n",
       "              <style>\n",
       "                .tskit-table thead tr th {text-align: left;padding: 0.5em 0.5em;}\n",
       "                .tskit-table tbody tr td {padding: 0.5em 0.5em;}\n",
       "                .tskit-table tbody tr td:first-of-type {text-align: left;}\n",
       "                .tskit-details-label {vertical-align: top; padding-right:5px;}\n",
       "                .tskit-table-set {display: inline-flex;flex-wrap: wrap;margin: -12px 0 0 -12px;width: calc(100% + 12px);}\n",
       "                .tskit-table-set-table {margin: 12px 0 0 12px;}\n",
       "                details {display: inline-block;}\n",
       "                summary {cursor: pointer; outline: 0; display: list-item;}\n",
       "              </style>\n",
       "              <div class=\"tskit-table-set\">\n",
       "                <div class=\"tskit-table-set-table\">\n",
       "                  <table class=\"tskit-table\">\n",
       "                    <thead>\n",
       "                      <tr>\n",
       "                        <th style=\"padding:0;line-height:21px;\">\n",
       "                          <img style=\"height: 32px;display: inline-block;padding: 3px 5px 3px 0;\" src=\"https://raw.githubusercontent.com/tskit-dev/administrative/main/tskit_logo.svg\"/>\n",
       "                          <a target=\"_blank\" href=\"https://tskit.dev/tskit/docs/latest/python-api.html#the-treesequence-class\"> Tree Sequence </a>\n",
       "                        </th>\n",
       "                      </tr>\n",
       "                    </thead>\n",
       "                    <tbody>\n",
       "                      <tr><td>Trees</td><td>932178</td></tr>\n",
       "                      <tr><td>Sequence Length</td><td>119146348.0</td></tr>\n",
       "                      <tr><td>Time Units</td><td>ticks</td></tr>\n",
       "                      <tr><td>Sample Nodes</td><td>54</td></tr>\n",
       "                      <tr><td>Total Size</td><td>182.4 MiB</td></tr>\n",
       "                      <tr>\n",
       "                        <td>Metadata</td><td style=\"text-align: left;\">\n",
       "                <div>\n",
       "                  <span class=\"tskit-details-label\"></span>\n",
       "                  <details open>\n",
       "                    <summary>dict</summary>\n",
       "                    \n",
       "                <div>\n",
       "                  <span class=\"tskit-details-label\">SLiM:</span>\n",
       "                  <details >\n",
       "                    <summary>dict</summary>\n",
       "                    cycle: 5<br/>file_version: 0.8<br/>model_type: nonWF<br/>name: sim<br/>nucleotide_based: False<br/>separate_sexes: False<br/>spatial_dimensionality: <br/>spatial_periodicity: <br/>stage: late<br/>tick: 5<br/>\n",
       "                  </details>\n",
       "                </div>\n",
       "                <br/>\n",
       "                  </details>\n",
       "                </div>\n",
       "                </td></tr>\n",
       "                    </tbody>\n",
       "                  </table>\n",
       "                </div>\n",
       "                <div class=\"tskit-table-set-table\">\n",
       "                  <table class=\"tskit-table\">\n",
       "                    <thead>\n",
       "                      <tr>\n",
       "                        <th style=\"line-height:21px;\">Table</th>\n",
       "                        <th>Rows</th>\n",
       "                        <th>Size</th>\n",
       "                        <th>Has Metadata</th>\n",
       "                      </tr>\n",
       "                    </thead>\n",
       "                    <tbody>\n",
       "                    \n",
       "                  <tr>\n",
       "                    <td>Edges</td>\n",
       "                      <td>3364319</td>\n",
       "                      <td>102.7 MiB</td>\n",
       "                      <td style=\"text-align: center;\">\n",
       "                        \n",
       "                      </td>\n",
       "                    </tr>\n",
       "                \n",
       "                  <tr>\n",
       "                    <td>Individuals</td>\n",
       "                      <td>27</td>\n",
       "                      <td>4.4 KiB</td>\n",
       "                      <td style=\"text-align: center;\">\n",
       "                        ✅\n",
       "                      </td>\n",
       "                    </tr>\n",
       "                \n",
       "                  <tr>\n",
       "                    <td>Migrations</td>\n",
       "                      <td>0</td>\n",
       "                      <td>8 Bytes</td>\n",
       "                      <td style=\"text-align: center;\">\n",
       "                        \n",
       "                      </td>\n",
       "                    </tr>\n",
       "                \n",
       "                  <tr>\n",
       "                    <td>Mutations</td>\n",
       "                      <td>3</td>\n",
       "                      <td>1.4 KiB</td>\n",
       "                      <td style=\"text-align: center;\">\n",
       "                        ✅\n",
       "                      </td>\n",
       "                    </tr>\n",
       "                \n",
       "                  <tr>\n",
       "                    <td>Nodes</td>\n",
       "                      <td>1490119</td>\n",
       "                      <td>54.0 MiB</td>\n",
       "                      <td style=\"text-align: center;\">\n",
       "                        ✅\n",
       "                      </td>\n",
       "                    </tr>\n",
       "                \n",
       "                  <tr>\n",
       "                    <td>Populations</td>\n",
       "                      <td>1</td>\n",
       "                      <td>2.3 KiB</td>\n",
       "                      <td style=\"text-align: center;\">\n",
       "                        ✅\n",
       "                      </td>\n",
       "                    </tr>\n",
       "                \n",
       "                  <tr>\n",
       "                    <td>Provenances</td>\n",
       "                      <td>2</td>\n",
       "                      <td>10.0 KiB</td>\n",
       "                      <td style=\"text-align: center;\">\n",
       "                        \n",
       "                      </td>\n",
       "                    </tr>\n",
       "                \n",
       "                  <tr>\n",
       "                    <td>Sites</td>\n",
       "                      <td>3</td>\n",
       "                      <td>166 Bytes</td>\n",
       "                      <td style=\"text-align: center;\">\n",
       "                        ✅\n",
       "                      </td>\n",
       "                    </tr>\n",
       "                \n",
       "                    </tbody>\n",
       "                  </table>\n",
       "                </div>\n",
       "              </div>\n",
       "            </div>\n",
       "            "
      ],
      "text/plain": [
       "<tskit.trees.TreeSequence at 0x7ff535ba71f0>"
      ]
     },
     "execution_count": 24,
     "metadata": {},
     "output_type": "execute_result"
    }
   ],
   "source": [
    "tskit.load('var0.0869_optima0.8377_result.trees')"
   ]
  },
  {
   "cell_type": "code",
   "execution_count": null,
   "id": "f25c8e0c-7949-44da-bb10-f9f7bb5f6f4a",
   "metadata": {},
   "outputs": [],
   "source": [
    "result_selection_var0.0869_optima2.2338.vcf"
   ]
  },
  {
   "cell_type": "code",
   "execution_count": 25,
   "id": "fe3f8da5-25f4-4497-b349-d31cd49cb635",
   "metadata": {},
   "outputs": [],
   "source": [
    "vcf_new = allel.read_vcf('result_selection_var0.0869_optima2.2338.vcf', fields = ['calldata/GT', 'variants/POS'])"
   ]
  },
  {
   "cell_type": "code",
   "execution_count": 26,
   "id": "0dc93d68-1ff3-48d6-82b5-f94e1e2ca19d",
   "metadata": {},
   "outputs": [
    {
     "data": {
      "text/plain": [
       "{'calldata/GT': array([[[1, 1]],\n",
       " \n",
       "        [[1, 1]],\n",
       " \n",
       "        [[1, 1]],\n",
       " \n",
       "        ...,\n",
       " \n",
       "        [[1, 1]],\n",
       " \n",
       "        [[1, 1]],\n",
       " \n",
       "        [[1, 1]]], dtype=int8),\n",
       " 'variants/POS': array([      419,       502,       508, ..., 119145662, 119145892,\n",
       "        119145924], dtype=int32)}"
      ]
     },
     "execution_count": 26,
     "metadata": {},
     "output_type": "execute_result"
    }
   ],
   "source": [
    "vcf_new"
   ]
  },
  {
   "cell_type": "code",
   "execution_count": null,
   "id": "6e28c642-1690-4a21-bced-ac2bcf113b6f",
   "metadata": {},
   "outputs": [],
   "source": []
  }
 ],
 "metadata": {
  "kernelspec": {
   "display_name": "Python 3 (ipykernel)",
   "language": "python",
   "name": "python3"
  },
  "language_info": {
   "codemirror_mode": {
    "name": "ipython",
    "version": 3
   },
   "file_extension": ".py",
   "mimetype": "text/x-python",
   "name": "python",
   "nbconvert_exporter": "python",
   "pygments_lexer": "ipython3",
   "version": "3.9.13"
  }
 },
 "nbformat": 4,
 "nbformat_minor": 5
}
