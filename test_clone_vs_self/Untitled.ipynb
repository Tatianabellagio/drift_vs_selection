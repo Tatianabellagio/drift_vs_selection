{
 "cells": [
  {
   "cell_type": "code",
   "execution_count": 2,
   "id": "8a510205-71c6-4c65-9756-88c8f8e0b43e",
   "metadata": {},
   "outputs": [],
   "source": [
    "# once i have wholegenome_offset.trees\n",
    "import pandas as pd\n",
    "import tskit\n",
    "import allel\n",
    "import random\n",
    "import numpy as np\n",
    "import seaborn as sns\n",
    "import matplotlib.pyplot as plt\n",
    "import tsinfer\n",
    "import pyslim\n",
    "import json\n",
    "import os"
   ]
  },
  {
   "cell_type": "code",
   "execution_count": 3,
   "id": "f14ff913-62cd-475e-a7e6-92e500d97392",
   "metadata": {},
   "outputs": [],
   "source": [
    "def overlap_neutral_mut (ts_new, ts, mapper_realid_metadataid):\n",
    "    ## extract surviving ndoes and comapre them to our old ndoes to place mtuations in the right place\n",
    "    surviving_nodes = []\n",
    "    for i in ts_new.tables.nodes:\n",
    "        surviving_nodes.append(i.metadata['slim_id'])\n",
    "    ## new nodes id and the ids i gave them in the past\n",
    "    new_mapper = pd.DataFrame({'new_ids': range(0, len(ts_new.tables.nodes)), 'my_ids_metadata':surviving_nodes})\n",
    "    ## map old nodes with new nodes\n",
    "    mapper_lost_nodes = new_mapper.merge(mapper_realid_metadataid, left_on = 'my_ids_metadata', right_on = 'my_ids_metadata', how= 'right')\n",
    "\n",
    "    ## create a mask to only keep from the old nodes the ones that survived the simulation\n",
    "    mask = mapper_lost_nodes['new_ids'].notna()\n",
    "\n",
    "    tables_og = ts.dump_tables()\n",
    "\n",
    "    ## now filter old tables only based on surviving nodes \n",
    "    tables_og.nodes.replace_with(tables_og.nodes[mask])\n",
    "\n",
    "    ## now filter mutation table based on the surviving nodes, for that, extract the nodes \n",
    "    old_nodes = tables_og.mutations.node\n",
    "\n",
    "    old_nodes = pd.Series(old_nodes)\n",
    "\n",
    "    old_nodes.name = 'old_nodes'\n",
    "\n",
    "    ## create a dataframe relating the new and old nodes\n",
    "    replace_oldbynew_nodes = pd.merge(old_nodes, mapper_lost_nodes, left_on ='old_nodes', right_on = 'real_id', how= 'left')\n",
    "\n",
    "    ## create a mask to filter out all the mutations than has been lost \n",
    "    mask_mutations_lost = replace_oldbynew_nodes['new_ids'].notna()\n",
    "\n",
    "    ## filter out mutations that has been lost \n",
    "    table_mutations = tables_og.mutations[mask_mutations_lost]\n",
    "\n",
    "    ## now replace the old nodes ids by the new nodes ids with the mapper\n",
    "    ids_to_replace = replace_oldbynew_nodes.dropna()['new_ids']\n",
    "    table_mutations.node = np.array(ids_to_replace.astype('int32'))\n",
    "\n",
    "    ## and jsut set the sites from 0 to the length of mutation table \n",
    "    table_mutations.site = np.array(range(0, len(table_mutations))).astype('int32')\n",
    "\n",
    "    ## apply the same filter from the mutations table to the sites table \n",
    "    table_sites = tables_og.sites[mask_mutations_lost]  \n",
    "\n",
    "    ## now replace all this filter old tables in the new tree seq! \n",
    "    new_tables = ts_new.dump_tables()\n",
    "\n",
    "    new_tables.mutations.replace_with(table_mutations)\n",
    "\n",
    "    new_tables.sites.replace_with(table_sites)\n",
    "\n",
    "    ## make sure to compure mutations parents\n",
    "    new_tables.compute_mutation_parents()\n",
    "\n",
    "    ## create tree seq based on tables\n",
    "    tree_nm = new_tables.tree_sequence()\n",
    "\n",
    "    return tree_nm.simplify()"
   ]
  },
  {
   "cell_type": "code",
   "execution_count": 4,
   "id": "6bfbac1d-40b9-4358-b37e-bd4c9c6db3a6",
   "metadata": {},
   "outputs": [],
   "source": [
    "def convert_tree_to_vcf (tree,name_vcf):\n",
    "    # create a vcf file from the treeseq \n",
    "    with open(name_vcf, 'w') as file:\n",
    "        # Pass the file object as the output parameter\n",
    "        tree.write_vcf(output=file)"
   ]
  },
  {
   "cell_type": "code",
   "execution_count": 32,
   "id": "996c9783-fbad-40b6-b41d-95ce0aeb8a70",
   "metadata": {},
   "outputs": [],
   "source": [
    "#import the old tree\n",
    "ts_old = tskit.load(\"../../treeseq/two_samples_baselinetree.trees\")\n",
    "#import mapper old nodes to new nodes\n",
    "mapper_realid_metadataid = pd.read_csv('../../treeseq/mapper_realid_metadataid_two_samples.csv')"
   ]
  },
  {
   "cell_type": "code",
   "execution_count": 33,
   "id": "e9482f31-4d0d-490b-b52f-a2dcf94ce071",
   "metadata": {},
   "outputs": [],
   "source": [
    "cloning = tskit.load('og_tree_after_cloning.trees')"
   ]
  },
  {
   "cell_type": "code",
   "execution_count": 34,
   "id": "1ab942de-5099-45d1-a8c7-a51972218398",
   "metadata": {},
   "outputs": [],
   "source": [
    "ts_nm = overlap_neutral_mut(cloning, ts_old, mapper_realid_metadataid)"
   ]
  },
  {
   "cell_type": "code",
   "execution_count": 35,
   "id": "e72b7bb2-4f68-45f6-b245-8244b938364b",
   "metadata": {},
   "outputs": [],
   "source": [
    "convert_tree_to_vcf(ts_nm, f'cloning.vcf')"
   ]
  },
  {
   "cell_type": "code",
   "execution_count": null,
   "id": "ab2bfef8-e327-4cbb-9db0-1b1b44b421e9",
   "metadata": {},
   "outputs": [],
   "source": []
  },
  {
   "cell_type": "code",
   "execution_count": 36,
   "id": "c7d4c0e4-5eaf-491e-bb25-bf722e888dbe",
   "metadata": {},
   "outputs": [],
   "source": [
    "selfing = tskit.load('og_tree_after_selfing.trees')\n",
    "\n",
    "ts_nm = overlap_neutral_mut(selfing, ts_old, mapper_realid_metadataid)\n",
    "\n",
    "convert_tree_to_vcf(ts_nm, f'selfing.vcf')"
   ]
  },
  {
   "cell_type": "code",
   "execution_count": null,
   "id": "8bea5df3-4ab9-4c8c-b7f8-0857b9a02f45",
   "metadata": {},
   "outputs": [],
   "source": []
  },
  {
   "cell_type": "code",
   "execution_count": 37,
   "id": "cee24e3a-1909-4ab7-aaee-01562c2d24db",
   "metadata": {},
   "outputs": [],
   "source": [
    "vcf_cloning = allel.read_vcf('cloning.vcf')\n",
    "## extract the genotype from the vcf file\n",
    "geno_cloning = vcf_cloning[\"calldata/GT\"]\n",
    "## calcualte the genotype counts"
   ]
  },
  {
   "cell_type": "code",
   "execution_count": 38,
   "id": "9d7296b3-3069-4323-b706-d2b791a508e1",
   "metadata": {},
   "outputs": [
    {
     "data": {
      "text/plain": [
       "4"
      ]
     },
     "execution_count": 38,
     "metadata": {},
     "output_type": "execute_result"
    }
   ],
   "source": [
    "len(vcf_cloning['samples'])"
   ]
  },
  {
   "cell_type": "code",
   "execution_count": 39,
   "id": "09863816-ef3d-4582-a5fc-821ba78a0aec",
   "metadata": {},
   "outputs": [],
   "source": [
    "geno_cloning = np.swapaxes(geno_cloning, 0, 1)\n",
    "## count ecotypes \n",
    "genotpye_counts_c = {}\n",
    "for i in geno_cloning:\n",
    "    sample = i.tobytes()\n",
    "    if sample in genotpye_counts_c:\n",
    "        genotpye_counts_c[sample] += 1\n",
    "    else:\n",
    "        genotpye_counts_c[sample] = 1"
   ]
  },
  {
   "cell_type": "code",
   "execution_count": 40,
   "id": "d96a8cf8-921d-4ded-9577-d3b80e85ad54",
   "metadata": {},
   "outputs": [
    {
     "data": {
      "text/plain": [
       "dict_values([2, 2])"
      ]
     },
     "execution_count": 40,
     "metadata": {},
     "output_type": "execute_result"
    }
   ],
   "source": [
    "genotpye_counts_c.values()"
   ]
  },
  {
   "cell_type": "code",
   "execution_count": 41,
   "id": "1d321308-8e14-4b8c-aa97-7ef9a40faa34",
   "metadata": {},
   "outputs": [
    {
     "data": {
      "text/plain": [
       "2"
      ]
     },
     "execution_count": 41,
     "metadata": {},
     "output_type": "execute_result"
    }
   ],
   "source": [
    "len(genotpye_counts_c)"
   ]
  },
  {
   "cell_type": "code",
   "execution_count": 42,
   "id": "f904a6dd-03b5-43a4-9221-8a0f8d68632e",
   "metadata": {},
   "outputs": [],
   "source": [
    "vcf_selfing = allel.read_vcf('selfing.vcf')\n",
    "## extract the genotype from the vcf file\n",
    "geno_selfing = vcf_selfing[\"calldata/GT\"]\n",
    "## calcualte the genotype counts"
   ]
  },
  {
   "cell_type": "code",
   "execution_count": 43,
   "id": "691fd731-44ce-4d99-80ae-c712dc8d499d",
   "metadata": {},
   "outputs": [
    {
     "data": {
      "text/plain": [
       "4"
      ]
     },
     "execution_count": 43,
     "metadata": {},
     "output_type": "execute_result"
    }
   ],
   "source": [
    "len(vcf_selfing['samples'])"
   ]
  },
  {
   "cell_type": "code",
   "execution_count": 44,
   "id": "61a2523e-6c0d-4527-8acb-0cc54cdd4ba5",
   "metadata": {},
   "outputs": [],
   "source": [
    "geno_selfing = np.swapaxes(geno_selfing, 0, 1)\n",
    "## count ecotypes \n",
    "genotpye_counts_s = {}\n",
    "for i in geno_selfing:\n",
    "    sample = i.tobytes()\n",
    "    if sample in genotpye_counts_s:\n",
    "        genotpye_counts_s[sample] += 1\n",
    "    else:\n",
    "        genotpye_counts_s[sample] = 1"
   ]
  },
  {
   "cell_type": "code",
   "execution_count": 45,
   "id": "8d598199-4462-4602-a440-d150485a2d90",
   "metadata": {},
   "outputs": [
    {
     "data": {
      "text/plain": [
       "dict_values([2, 2])"
      ]
     },
     "execution_count": 45,
     "metadata": {},
     "output_type": "execute_result"
    }
   ],
   "source": [
    "genotpye_counts_s.values()"
   ]
  },
  {
   "cell_type": "code",
   "execution_count": 46,
   "id": "7190b0f5-a135-4b3f-b396-97e8ef92a4dc",
   "metadata": {},
   "outputs": [],
   "source": []
  },
  {
   "cell_type": "code",
   "execution_count": 47,
   "id": "c8a97766-b81e-4f18-9854-96cc9e32f30f",
   "metadata": {},
   "outputs": [
    {
     "data": {
      "text/plain": [
       "1    368\n",
       "2     47\n",
       "dtype: int64"
      ]
     },
     "execution_count": 47,
     "metadata": {},
     "output_type": "execute_result"
    }
   ],
   "source": [
    "genoc_selfing.value_counts()"
   ]
  },
  {
   "cell_type": "code",
   "execution_count": null,
   "id": "dd52786b-3092-487e-a1cf-55520a0a4769",
   "metadata": {},
   "outputs": [],
   "source": []
  },
  {
   "cell_type": "code",
   "execution_count": 20,
   "id": "52ec2a2e-5c9e-43f8-b256-d278145450b2",
   "metadata": {},
   "outputs": [
    {
     "data": {
      "text/plain": [
       "415"
      ]
     },
     "execution_count": 20,
     "metadata": {},
     "output_type": "execute_result"
    }
   ],
   "source": [
    "len(genotpye_counts_s)"
   ]
  },
  {
   "cell_type": "code",
   "execution_count": 22,
   "id": "bc591fb0-a285-4f3e-afec-07e8a1dd4115",
   "metadata": {},
   "outputs": [
    {
     "data": {
      "text/plain": [
       "184"
      ]
     },
     "execution_count": 22,
     "metadata": {},
     "output_type": "execute_result"
    }
   ],
   "source": [
    "415 - 231"
   ]
  },
  {
   "cell_type": "code",
   "execution_count": null,
   "id": "54eaa696-03a8-4165-ac79-f9126f05404a",
   "metadata": {},
   "outputs": [],
   "source": [
    "pd.read_csv()"
   ]
  }
 ],
 "metadata": {
  "kernelspec": {
   "display_name": "Python 3 (ipykernel)",
   "language": "python",
   "name": "python3"
  },
  "language_info": {
   "codemirror_mode": {
    "name": "ipython",
    "version": 3
   },
   "file_extension": ".py",
   "mimetype": "text/x-python",
   "name": "python",
   "nbconvert_exporter": "python",
   "pygments_lexer": "ipython3",
   "version": "3.9.13"
  }
 },
 "nbformat": 4,
 "nbformat_minor": 5
}
